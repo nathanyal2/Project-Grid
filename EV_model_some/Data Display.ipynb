{
 "cells": [
  {
   "cell_type": "code",
   "execution_count": null,
   "metadata": {},
   "outputs": [],
   "source": [
    "#instead of merge_all, you would use 2018data.\n",
    "\n",
    "def standardize_columns(data):\n",
    "\n",
    "    norm_df = pd.DataFrame() \n",
    "    \n",
    "    for i in data.columns:\n",
    "        column=data[i]\n",
    "        \n",
    "        std=np.std(column)\n",
    "        avg=np.mean(column)\n",
    "\n",
    "        norm_df[i]=(column-avg)/std\n",
    "        \n",
    "    return norm_df\n",
    "\n",
    "def r_score(x,y):\n",
    "    xmean=np.mean(x)\n",
    "    ymean=np.mean(y)\n",
    "    \n",
    "    xstd=np.std(x)\n",
    "    ystd=np.std(y)\n",
    "    \n",
    "    xnorm=(x-xmean)/xstd\n",
    "    ynorm=(y-ymean)/ystd\n",
    "    \n",
    "    return np.mean(ynorm*xnorm)    \n",
    "\n",
    "\n",
    "\n",
    "std_data=standardize_columns(merge_all.drop('County',axis=1))\n",
    "from sklearn.metrics import r2_score\n",
    "\n",
    "for i in std_data.columns:\n",
    "    print()\n",
    "    \n",
    "    r=r_score(std_data[i],std_data['EV'])\n",
    "    r2=r2_score(merge_all[i],merge_all['EV'])\n",
    "    \n",
    "    plt.figure(figsize=(15,5))\n",
    "    plt.subplot(1, 2, 1)\n",
    "    plt.scatter(std_data[i],std_data['EV'],label=i,color='r',alpha=0.3)\n",
    "    plt.title(i[0:55]+'...'+str(' R= ')+str(np.round(r,2))+' (Standard Units)')\n",
    "    plt.xlabel(i)\n",
    "    plt.ylabel('EV percentage to Total Vehicles (Standard Units)')\n",
    "\n",
    "    plt.subplot(1, 2, 2)\n",
    "    plt.scatter(merge_all[i],merge_all['EV'],label=i,color='r',alpha=0.3)\n",
    "    plt.title(i[0:55]+'...'+str(' r^2= ')+str(np.round(r2,2)))\n",
    "    plt.xlabel(i)\n",
    "    plt.ylabel('EV percentage to Total Vehicles (%)')\n",
    "    plt.tight_layout()\n",
    "    plt.show()"
   ]
  }
 ],
 "metadata": {
  "kernelspec": {
   "display_name": "Python 3",
   "language": "python",
   "name": "python3"
  },
  "language_info": {
   "codemirror_mode": {
    "name": "ipython",
    "version": 3
   },
   "file_extension": ".py",
   "mimetype": "text/x-python",
   "name": "python",
   "nbconvert_exporter": "python",
   "pygments_lexer": "ipython3",
   "version": "3.6.5"
  }
 },
 "nbformat": 4,
 "nbformat_minor": 2
}
